{
 "cells": [
  {
   "cell_type": "markdown",
   "metadata": {},
   "source": [
    "## <font color=blue> HiCAT example usage  </font>\n",
    "####  Machine Learning and Bioinformatics (MLBI) Lab @ DKU, 2022.07.27 <br>"
   ]
  },
  {
   "cell_type": "code",
   "execution_count": 23,
   "metadata": {},
   "outputs": [],
   "source": [
    "import numpy as np\n",
    "import pandas as pd\n",
    "import scanpy as sc\n",
    "import matplotlib.pyplot as plt\n",
    "from matplotlib import cm\n",
    "\n",
    "## For performance evaluation\n",
    "def get_perf_ext( df_pred, cell_types_not_consider, truth = 'cell_type_true' ):\n",
    "    \n",
    "    cell_type = df_pred[truth]\n",
    "    bc = np.full(len(cell_type), False)\n",
    "    for ct in cell_types_not_consider:\n",
    "        bc = bc | (cell_type == ct)\n",
    "    df_pred = df_pred.loc[~bc,:]\n",
    "        \n",
    "    cols = list(df_pred.columns.values)\n",
    "    if 'target_cell_types' in cols:\n",
    "        cols.remove('target_cell_types')\n",
    "    if truth in cols:\n",
    "        cols.remove(truth)\n",
    "    \n",
    "    df_perf = pd.DataFrame(index = ['C', 'CUA', 'EUA', 'EA', 'E'])\n",
    "    tcts = list(set(df_pred['target_cell_types']))\n",
    "    \n",
    "    bt = np.full( df_pred.shape[0], False )\n",
    "    for k, tct in enumerate(tcts):\n",
    "        b1 = df_pred['target_cell_types'] == tct\n",
    "        tct_lst = tct.split(',')\n",
    "        for ct in tct_lst:\n",
    "            b2 = df_pred[truth] == ct\n",
    "            bt = bt | (b1&b2)\n",
    "                \n",
    "    bz = df_pred[truth] != 'Unknown'\n",
    "    df_perf['ideal'] = [np.sum(bz&bt)/np.sum(bz), \\\n",
    "                        np.sum(bz&(~bt))/np.sum(bz), 0,0,0]\n",
    "        \n",
    "    for c in cols:\n",
    "        tcol = c        \n",
    "        ba = np.full( df_pred.shape[0], False )\n",
    "        for k, tct in enumerate(tcts):\n",
    "            b1 = df_pred['target_cell_types'] == tct\n",
    "            tct_lst = tct.split(',')\n",
    "            for ct in tct_lst:\n",
    "                b2 = df_pred[tcol] == ct\n",
    "                ba = ba | (b1&b2)                \n",
    "        bua = ~ba\n",
    "        b_cua = ((bz) & (~bt) & (bua))\n",
    "        b_ea = ((bz) & (~bt) & (ba))\n",
    "        b_eua = ((bz) & (bt) & (bua))\n",
    "        b_e = ((bz) & (bt) & (~bua) & (df_pred[tcol] != df_pred[truth]))\n",
    "        b_c = ((bz) & (bt) & (~bua) & (df_pred[tcol] == df_pred[truth]))\n",
    "        \n",
    "        n_correctly_unassigned = np.sum(b_cua)/np.sum(bz)\n",
    "        n_incorrectly_assigned = np.sum(b_ea)/np.sum(bz)\n",
    "        n_incorrectly_unassigned = np.sum(b_eua)/np.sum(bz)\n",
    "        n_incorrect = np.sum(b_e)/np.sum(bz)\n",
    "        n_correct = np.sum(b_c)/np.sum(bz)\n",
    "        \n",
    "        df_perf[c] = [n_correct, n_correctly_unassigned, n_incorrectly_unassigned, \\\n",
    "                      n_incorrectly_assigned, n_incorrect]\n",
    "\n",
    "    df_perf = df_perf*100\n",
    "    df_perf = df_perf.loc[['C', 'EUA', 'E', 'EA', 'CUA'],:]\n",
    "    df_perf.loc['Method',:] = list(df_perf.columns.values)\n",
    "    df_perf = df_perf.T\n",
    "\n",
    "    return df_perf"
   ]
  },
  {
   "cell_type": "markdown",
   "metadata": {},
   "source": [
    "## import HiCAT"
   ]
  },
  {
   "cell_type": "code",
   "execution_count": null,
   "metadata": {},
   "outputs": [],
   "source": [
    "from hicat import HiCAT, show_summary "
   ]
  },
  {
   "cell_type": "markdown",
   "metadata": {},
   "source": [
    "## Load single-cell data"
   ]
  },
  {
   "cell_type": "code",
   "execution_count": null,
   "metadata": {},
   "outputs": [],
   "source": [
    "file = 'Melanoma_5K_rev'\n",
    "adata_t = sc.read_h5ad(file + '.h5ad')\n",
    "adata_t"
   ]
  },
  {
   "cell_type": "markdown",
   "metadata": {},
   "source": [
    "### Run MarkerCount"
   ]
  },
  {
   "cell_type": "code",
   "execution_count": null,
   "metadata": {
    "scrolled": false
   },
   "outputs": [],
   "source": [
    "## Marker file to use\n",
    "mkr_file = 'cell_markers_rndsystems_rev.tsv'\n",
    "\n",
    "df_pred, summary = \\\n",
    "    HiCAT( adata_t.to_df(), marker_file = mkr_file, log_transformed = False,\n",
    "                   Clustering_algo = 'lv', Clustering_resolution = 2, \n",
    "                   Target_FPR = 0.05, pval_th = 0.05,\n",
    "                   target_cell_types = [], ## all in the db\n",
    "                   minor_types_to_exclude = [], N_neighbors_minor = 31,\n",
    "                   N_neighbors_subset = 11, cycling_cell = False, \n",
    "                   verbose = False )\n",
    "\n",
    "adata_t.obs['HiCAT_subset'] = df_pred['cell_type_subset']\n",
    "adata_t.obs['HiCAT_minor'] = df_pred['cell_type_minor']\n",
    "adata_t.obs['HiCAT_major'] = df_pred['cell_type_major']"
   ]
  },
  {
   "cell_type": "markdown",
   "metadata": {},
   "source": [
    "## Compare performance (Major-type annotation)"
   ]
  },
  {
   "cell_type": "code",
   "execution_count": null,
   "metadata": {},
   "outputs": [],
   "source": [
    "from hicat import get_markers_major_type, get_markers_cell_type\n",
    "\n",
    "## Get target major cell-types \n",
    "mkr_lst_pos, mkr_lst_neg = get_markers_major_type(mkr_file)\n",
    "target_cell_types = list(mkr_lst_pos.keys())\n",
    "\n",
    "## Columns to select from adata_t.obs\n",
    "cols = ['celltype', 'HiCAT', 'scSorter', 'Garnett', \n",
    "            'SCINA', 'DigitalCellSorter', 'scType', 'scCatch']\n",
    "cols_sel = [c + '_major' for c in cols]\n",
    "\n",
    "## Get columns & set target cell-types\n",
    "df_pred_all = adata_t.obs[cols_sel].astype(str)\n",
    "df_pred_all['target_cell_types'] = ','.join(target_cell_types)\n",
    "\n",
    "## Get performances\n",
    "df_perf = get_perf_ext( df_pred_all, cell_types_not_consider = ['Unknown'], \n",
    "                                    truth = cols_sel[0])\n",
    "\n",
    "ax = df_perf.plot( x = 'Method', kind = 'bar', stacked = True, title = 'Major type identification', \\\n",
    "                       cmap = cm.get_cmap('Spectral'), legend = False )\n",
    "plt.legend(bbox_to_anchor=(1.02, 1), loc='upper left') # , title = 'legend')\n",
    "plt.show()"
   ]
  },
  {
   "cell_type": "markdown",
   "metadata": {},
   "source": [
    "## Compare performance (Minor-type annotation)"
   ]
  },
  {
   "cell_type": "code",
   "execution_count": null,
   "metadata": {},
   "outputs": [],
   "source": [
    "## Get target minor cell-types \n",
    "mkr_lst_pos, mkr_lst_neg = get_markers_cell_type(mkr_file)\n",
    "target_cell_types = list(mkr_lst_pos.keys())\n",
    "\n",
    "## Columns to select from adata_t.obs\n",
    "cols = ['celltype', 'HiCAT', 'scSorter', 'Garnett', \n",
    "            'SCINA', 'DigitalCellSorter', 'scType', 'scCatch']\n",
    "cols_sel = [c + '_minor' for c in cols]\n",
    "\n",
    "## Get columns & set target cell-types\n",
    "df_pred_all = adata_t.obs[cols_sel].astype(str)\n",
    "df_pred_all['target_cell_types'] = ','.join(target_cell_types)\n",
    "\n",
    "## Get performances\n",
    "df_perf = get_perf_ext( df_pred_all, cell_types_not_consider = ['Unknown'], \n",
    "                                    truth = cols_sel[0])\n",
    "\n",
    "ax = df_perf.plot( x = 'Method', kind = 'bar', stacked = True, title = 'Minor type identification', \\\n",
    "                       cmap = cm.get_cmap('Spectral'), legend = False )\n",
    "plt.legend(bbox_to_anchor=(1.02, 1), loc='upper left') # , title = 'legend')\n",
    "plt.show()"
   ]
  },
  {
   "cell_type": "markdown",
   "metadata": {},
   "source": [
    "## Check HiCAT summary"
   ]
  },
  {
   "cell_type": "code",
   "execution_count": null,
   "metadata": {
    "scrolled": false
   },
   "outputs": [],
   "source": [
    "auc_lst = show_summary(df_pred, summary)"
   ]
  },
  {
   "cell_type": "markdown",
   "metadata": {},
   "source": [
    "## Check UMAP"
   ]
  },
  {
   "cell_type": "code",
   "execution_count": null,
   "metadata": {
    "scrolled": false
   },
   "outputs": [],
   "source": [
    "## Normalize and log-transform\n",
    "sc.pp.normalize_total(adata_t, target_sum=1e4)\n",
    "sc.pp.log1p(adata_t)\n",
    "sc.pp.highly_variable_genes(adata_t, n_top_genes = 2000) \n",
    "sc.pp.scale(adata_t, max_value=10)\n",
    "\n",
    "N_pca = 15\n",
    "sc.tl.pca(adata_t, svd_solver='arpack', n_comps = N_pca, use_highly_variable = True)\n",
    "sc.pp.neighbors(adata_t, n_neighbors=10, n_pcs=N_pca)\n",
    "sc.tl.leiden(adata_t, resolution = 1)\n",
    "sc.tl.umap(adata_t)   \n",
    "\n",
    "c_target = ['celltype_major', 'celltype_minor',\n",
    "            'HiCAT_major', 'HiCAT_minor', 'HiCAT_subset'] # , \n",
    "\n",
    "sc.settings.set_figure_params(figsize=(5, 5), dpi=80, facecolor='white')\n",
    "sc.pl.umap(adata_t, color=c_target, wspace = 0.3, \\\n",
    "           s = 20, legend_fontsize = 12, title = c_target, ncols = 2, \n",
    "           palette = 'Spectral') "
   ]
  },
  {
   "cell_type": "code",
   "execution_count": null,
   "metadata": {},
   "outputs": [],
   "source": []
  },
  {
   "cell_type": "code",
   "execution_count": null,
   "metadata": {},
   "outputs": [],
   "source": []
  }
 ],
 "metadata": {
  "kernelspec": {
   "display_name": "Python 3 (ipykernel)",
   "language": "python",
   "name": "python3"
  },
  "language_info": {
   "codemirror_mode": {
    "name": "ipython",
    "version": 3
   },
   "file_extension": ".py",
   "mimetype": "text/x-python",
   "name": "python",
   "nbconvert_exporter": "python",
   "pygments_lexer": "ipython3",
   "version": "3.8.8"
  }
 },
 "nbformat": 4,
 "nbformat_minor": 4
}
